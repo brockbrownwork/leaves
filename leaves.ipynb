{
 "cells": [
  {
   "cell_type": "code",
   "execution_count": 1,
   "id": "99fe8e40-cb06-4191-b016-7a21d29734d1",
   "metadata": {},
   "outputs": [],
   "source": [
    "import alphashape\n",
    "import matplotlib.pyplot as plt\n",
    "import numpy as np\n",
    "import cv2"
   ]
  },
  {
   "cell_type": "code",
   "execution_count": 5,
   "id": "9aa859d9-1af8-45d5-affd-707b5bdfca9f",
   "metadata": {},
   "outputs": [
    {
     "data": {
      "image/png": "[encoded data removed]",
      "text/plain": [
       "<Figure size 432x288 with 1 Axes>"
      ]
     },
     "metadata": {
      "needs_background": "light"
     },
     "output_type": "display_data"
    },
    {
     "name": "stdout",
     "output_type": "stream",
     "text": [
      "[(50.0, 25.0), (0.0, 0.0), (25.0, 50.0), (0.0, 100.0), (50.0, 75.0), (100.0, 100.0), (75.0, 50.0), (100.0, 0.0), (50.0, 25.0)]\n"
     ]
    }
   ],
   "source": [
    "# Define a set of 2D points\n",
    "points_2d = [(0., 0.), (0., 1.), (1., 1.), (1., 0.),\n",
    "          (0.5, 0.25), (0.5, 0.75), (0.25, 0.5), (0.75, 0.5)]\n",
    "# points_2d = list([(x * 100, y * 100) for (x, y) in points_2d])\n",
    "# print(points_2d)\n",
    "\n",
    "def generate_alpha_shape(points_2d, alpha):\n",
    "    # Generate the alphashape with an alpha value of 2.0\n",
    "    alpha_shape = alphashape.alphashape(points_2d, alpha)\n",
    "    if alpha_shape.is_empty:\n",
    "        return []\n",
    "    # Get the coordinates of the points that make up the alphashape\n",
    "    alphashape_coords = alpha_shape.exterior.coords.xy\n",
    "\n",
    "    # Plot the original set of points and the alphashape\n",
    "    fig, ax = plt.subplots()\n",
    "    ax.scatter(*zip(*points_2d))\n",
    "    ax.plot(alphashape_coords[0], alphashape_coords[1])\n",
    "    plt.show()\n",
    "\n",
    "    # print(alphashape_coords)\n",
    "    return [(x, y) for (x, y) in zip(alphashape_coords[0], alphashape_coords[1])]\n",
    "\n",
    "def calculate_bounds(points):\n",
    "    min_x, min_y = float('inf'), float('inf')\n",
    "    max_x, max_y = float('-inf'), float('-inf')\n",
    "\n",
    "    for x, y in points:\n",
    "        min_x = min(min_x, x)\n",
    "        min_y = min(min_y, y)\n",
    "        max_x = max(max_x, x)\n",
    "        max_y = max(max_y, y)\n",
    "\n",
    "    return [(min_x, min_y), (max_x, max_y)]\n",
    "\n",
    "original_bounds = calculate_bounds(scaled_points)\n",
    "\n",
    "def normalize_points(points, new_bounds=(0, 1)):\n",
    "    # returns the normalized points as well as their original boundaries\n",
    "    min_x, min_y = float('inf'), float('inf')\n",
    "    max_x, max_y = float('-inf'), float('-inf')\n",
    "\n",
    "    for x, y in points:\n",
    "        min_x = min(min_x, x)\n",
    "        min_y = min(min_y, y)\n",
    "        max_x = max(max_x, x)\n",
    "        max_y = max(max_y, y)\n",
    "\n",
    "    new_min, new_max = new_bounds\n",
    "    return [((x - min_x) / (max_x - min_x) * (new_max - new_min) + new_min,\n",
    "             (y - min_y) / (max_y - min_y) * (new_max - new_min) + new_min) for x, y in points], ((min_x, min_y), (max_x, max_y))\n",
    "\n",
    "def denormalize_points(points, original_bounds, new_bounds=(0, 1)):\n",
    "    min_x, min_y = original_bounds[0]\n",
    "    max_x, max_y = original_bounds[1]\n",
    "    new_min, new_max = new_bounds\n",
    "    return [((x - new_min) * (max_x - min_x) / (new_max - new_min) + min_x,\n",
    "             (y - new_min) * (max_y - min_y) / (new_max - new_min) + min_y) for x, y in points]\n",
    "\n",
    "\n",
    "\n",
    "\n",
    "# test it out\n",
    "if __name__ == \"__main__\":\n",
    "\n",
    "    scaled_points = [(x * 100, y * 100) for (x, y) in points_2d]\n",
    "    normalized_points, original_bounds = normalize_points(scaled_points)\n",
    "    alpha_shape_points = generate_alpha_shape(normalized_points, 2)\n",
    "    denormalized_alpha_shape_points = denormalize_points(alpha_shape_points, original_bounds)\n",
    "\n",
    "    print(denormalized_alpha_shape_points)\n"
   ]
  },
  {
   "cell_type": "code",
   "execution_count": null,
   "id": "8a14b96c-34a0-42d2-b99e-a9ef963c837a",
   "metadata": {},
   "outputs": [],
   "source": []
  }
 ],
 "metadata": {
  "kernelspec": {
   "display_name": "Python 3 (ipykernel)",
   "language": "python",
   "name": "python3"
  },
  "language_info": {
   "codemirror_mode": {
    "name": "ipython",
    "version": 3
   },
   "file_extension": ".py",
   "mimetype": "text/x-python",
   "name": "python",
   "nbconvert_exporter": "python",
   "pygments_lexer": "ipython3",
   "version": "3.10.4"
  }
 },
 "nbformat": 4,
 "nbformat_minor": 5
}
